{
 "cells": [
  {
   "cell_type": "markdown",
   "id": "4bd2a09f-370f-4eb5-8ab5-04abd6b6522b",
   "metadata": {},
   "source": [
    "# A 1D diffusion model"
   ]
  },
  {
   "cell_type": "markdown",
   "id": "14ad26ac-cafc-4042-bc92-cf5ac3fdee0c",
   "metadata": {},
   "source": [
    "Here we develop a one-dimensional model of diffusion.\n",
    "It assumes a constant diffusivity.\n",
    "It uses a regular grid.\n",
    "It has a step function for an initial condition.\n",
    "It has fixed boundary conditions."
   ]
  },
  {
   "cell_type": "markdown",
   "id": "8ffeab23-bf3a-43e6-bda3-dc27538b3fba",
   "metadata": {},
   "source": [
    "Here is the diffusion equation:"
   ]
  },
  {
   "cell_type": "markdown",
   "id": "2126e474-5ebf-47da-869b-01aa259f4901",
   "metadata": {},
   "source": [
    "$$ \\frac{\\partial C}{\\partial t} = D\\frac{\\partial^2 C}{\\partial x^2} $$"
   ]
  },
  {
   "cell_type": "markdown",
   "id": "63b2f446-2066-440f-ba6c-9b77972f2428",
   "metadata": {},
   "source": [
    "Here is the discretized version of the diffusion equation we will solve with our model:"
   ]
  },
  {
   "cell_type": "markdown",
   "id": "37104c8d-5c50-44b6-a6c3-18eb87dae5e2",
   "metadata": {},
   "source": [
    "$$ C^{t+1}_x = C^t_x + {D \\Delta t \\over \\Delta x^2} (C^t_{x+1} - 2C^t_x + C^t_{x-1}) $$"
   ]
  },
  {
   "cell_type": "markdown",
   "id": "ae17498f-6e1d-41df-9faf-5e3b6a614abb",
   "metadata": {},
   "source": [
    "This is the FICS scheme as described by Slingerland and Kump (2011)."
   ]
  },
  {
   "cell_type": "markdown",
   "id": "a6462149-d17a-40b1-b197-316a52644a55",
   "metadata": {},
   "source": [
    "We'll use two libraries, Numpy (for arrays) and matplotlib (for plotting), that aren´t a part of the core Python distribution"
   ]
  },
  {
   "cell_type": "code",
   "execution_count": null,
   "id": "d561eb8e-67f9-408a-9931-ea4d983c3520",
   "metadata": {},
   "outputs": [],
   "source": [
    "import numpy as np\n",
    "import matplotlib.pyplot as plt"
   ]
  },
  {
   "cell_type": "markdown",
   "id": "ef987633-9c22-48da-9c4b-7bc7353e76bf",
   "metadata": {},
   "source": [
    "Start bby setting two fixed model parameters, the diffusivity and the size of the model domain"
   ]
  },
  {
   "cell_type": "code",
   "execution_count": null,
   "id": "dcce3980-1862-4f49-98f7-409953d2a14c",
   "metadata": {},
   "outputs": [],
   "source": [
    "D = 100\n",
    "Lx = 300"
   ]
  },
  {
   "cell_type": "markdown",
   "id": "c05ebebe-495d-4fc9-8142-643dc61a40ae",
   "metadata": {},
   "source": [
    "Next, set up the model grid using a Numpy array."
   ]
  },
  {
   "cell_type": "code",
   "execution_count": null,
   "id": "65fa29c2-9cf5-4dda-8821-a34f5c4c9d43",
   "metadata": {},
   "outputs": [],
   "source": [
    "dx = 0.5\n",
    "x = np.arange(start=0, stop=Lx, step=dx)\n",
    "nx = len(x)"
   ]
  },
  {
   "cell_type": "code",
   "execution_count": null,
   "id": "55cc0e9b-2826-44e2-bd7b-55630f37aab6",
   "metadata": {},
   "outputs": [],
   "source": [
    "nx"
   ]
  },
  {
   "cell_type": "code",
   "execution_count": null,
   "id": "338d5b06-04ee-4a2f-92ac-fa755d385c92",
   "metadata": {},
   "outputs": [],
   "source": [
    "x[0]"
   ]
  },
  {
   "cell_type": "code",
   "execution_count": null,
   "id": "bfc822fb-93b8-44d4-97a5-44eee625a83a",
   "metadata": {},
   "outputs": [],
   "source": [
    "x[0:5]"
   ]
  },
  {
   "cell_type": "markdown",
   "id": "a6ae23b2-f448-4fe7-9bd6-580121097df4",
   "metadata": {},
   "source": [
    "Set the initial conditions for the model.\n",
    "The cake \"C\" is a step function with a high value on the left, a low value on the right, and a step at the center of the domain."
   ]
  },
  {
   "cell_type": "code",
   "execution_count": null,
   "id": "cfb8459a-8023-427e-8f54-5fd28d6e8fc9",
   "metadata": {},
   "outputs": [],
   "source": [
    "C = np.zeros_like(x)\n",
    "C_left = 500\n",
    "C_right = 0\n",
    "C[x<= Lx/2] = C_left\n",
    "C[x> Lx /2] = C_right"
   ]
  },
  {
   "cell_type": "markdown",
   "id": "586ed612-673f-40aa-b1a8-8863e1a2b8c1",
   "metadata": {},
   "source": [
    "Plot the initial profile"
   ]
  },
  {
   "cell_type": "code",
   "execution_count": null,
   "id": "2e89f5ba-8dec-4a93-b1ad-fbe7ccb42181",
   "metadata": {},
   "outputs": [],
   "source": [
    "plt.figure()\n",
    "plt.plot(x, C, \"r\")\n",
    "plt.xlabel(\"x\")\n",
    "plt.ylabel(\"C\")\n",
    "plt.title(\"Initial profile\")"
   ]
  },
  {
   "cell_type": "markdown",
   "id": "f40334b7-5bff-4e28-bcb0-d17e0d1d11ff",
   "metadata": {},
   "source": [
    "Set the number of time steps in the model.\n",
    "Calculate a stable time step using a stability criterion"
   ]
  },
  {
   "cell_type": "code",
   "execution_count": null,
   "id": "f6c7f152-eedb-4588-863b-5958734fd054",
   "metadata": {},
   "outputs": [],
   "source": [
    "nt = 5000\n",
    "dt = 0.5 * dx **2/ D"
   ]
  },
  {
   "cell_type": "markdown",
   "id": "b9009404-f947-4593-87ee-785809b08c33",
   "metadata": {},
   "source": [
    "Loop over the time steps of the model, solving the diffusion equation using the FICS scheme shown above.\n",
    "Note the use of array operations on the variable ´C´. The boundary conditions remain fixed in each time step."
   ]
  },
  {
   "cell_type": "code",
   "execution_count": null,
   "id": "9bdda03d-3278-4d7a-828d-2a026179b0aa",
   "metadata": {},
   "outputs": [],
   "source": [
    "for t in range(0,nt):\n",
    "    C[1:-1] += D * dt/dx ** 2 * (C[:-2] - 2*C[1:-1] + C[2:])"
   ]
  },
  {
   "cell_type": "markdown",
   "id": "9a7c3e73-2a09-4db0-a5ba-a27f443849b9",
   "metadata": {},
   "source": [
    "Plot the results"
   ]
  },
  {
   "cell_type": "code",
   "execution_count": null,
   "id": "02acc9fb-006e-49d5-bb2c-ba3225018bf4",
   "metadata": {},
   "outputs": [],
   "source": [
    "plt.plot(x,C,\"b\")\n",
    "plt.xlabel(\"x\")\n",
    "plt.ylabel(\"C\")\n",
    "plt.title(\"Final profile\")"
   ]
  }
 ],
 "metadata": {
  "kernelspec": {
   "display_name": "Ivy",
   "language": "python",
   "name": "ivy"
  },
  "language_info": {
   "codemirror_mode": {
    "name": "ipython",
    "version": 3
   },
   "file_extension": ".py",
   "mimetype": "text/x-python",
   "name": "python",
   "nbconvert_exporter": "python",
   "pygments_lexer": "ipython3",
   "version": "3.13.3"
  }
 },
 "nbformat": 4,
 "nbformat_minor": 5
}
